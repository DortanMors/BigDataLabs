{
 "cells": [
  {
   "cell_type": "code",
   "id": "3d4d6d46-1fa8-44f0-9f89-1893bdb80910",
   "metadata": {
    "id": "3d4d6d46-1fa8-44f0-9f89-1893bdb80910",
    "colab": {
     "base_uri": "https://localhost:8080/"
    },
    "outputId": "78598492-d556-425b-d0b3-190d9b6e8e67",
    "ExecuteTime": {
     "end_time": "2024-05-09T20:33:39.708939Z",
     "start_time": "2024-05-09T20:30:57.887483Z"
    }
   },
   "source": [
    "!wget -q https://archive.apache.org/dist/spark/spark-3.5.1/spark-3.5.1-bin-hadoop3.tgz\n",
    "!tar xf spark-3.5.1-bin-hadoop3.tgz"
   ],
   "outputs": [],
   "execution_count": 81
  },
  {
   "cell_type": "code",
   "source": [
    "import os\n",
    "os.environ[\"SPARK_HOME\"] = \"spark-3.5.1-bin-hadoop3\"\n",
    "os.environ[\"JAVA_HOME\"] = \"/usr\""
   ],
   "metadata": {
    "id": "MwbN0Hqr7i0j",
    "ExecuteTime": {
     "end_time": "2024-05-09T21:38:24.866071Z",
     "start_time": "2024-05-09T21:38:24.861485Z"
    }
   },
   "id": "MwbN0Hqr7i0j",
   "outputs": [],
   "execution_count": 1
  },
  {
   "cell_type": "code",
   "source": [
    "!pip install findspark"
   ],
   "metadata": {
    "colab": {
     "base_uri": "https://localhost:8080/"
    },
    "id": "fJ6Sj5WM7nIJ",
    "outputId": "41035883-eebf-4f68-fdd7-a9d59888472c",
    "ExecuteTime": {
     "end_time": "2024-05-09T21:38:26.219845Z",
     "start_time": "2024-05-09T21:38:24.872971Z"
    }
   },
   "id": "fJ6Sj5WM7nIJ",
   "outputs": [
    {
     "name": "stdout",
     "output_type": "stream",
     "text": [
      "Requirement already satisfied: findspark in /home/slava/Documents/У(ч)ёба/Большие Данные/BigDataLabs/venv/lib/python3.11/site-packages (2.0.1)\r\n"
     ]
    }
   ],
   "execution_count": 2
  },
  {
   "cell_type": "code",
   "source": [
    "import findspark\n",
    "findspark.init()"
   ],
   "metadata": {
    "id": "9oJQDg-W7p6u",
    "ExecuteTime": {
     "end_time": "2024-05-09T21:38:26.225090Z",
     "start_time": "2024-05-09T21:38:26.221483Z"
    }
   },
   "id": "9oJQDg-W7p6u",
   "outputs": [],
   "execution_count": 3
  },
  {
   "cell_type": "code",
   "source": "!pip3 install pyspark==3.5.1",
   "metadata": {
    "colab": {
     "base_uri": "https://localhost:8080/"
    },
    "id": "UmipeV6f7trz",
    "outputId": "fa1d1f46-6d67-4e2d-a458-205661418296",
    "ExecuteTime": {
     "end_time": "2024-05-09T21:38:27.447873Z",
     "start_time": "2024-05-09T21:38:26.226146Z"
    }
   },
   "id": "UmipeV6f7trz",
   "outputs": [
    {
     "name": "stdout",
     "output_type": "stream",
     "text": [
      "Requirement already satisfied: pyspark==3.5.1 in /home/slava/Documents/У(ч)ёба/Большие Данные/BigDataLabs/venv/lib/python3.11/site-packages (3.5.1)\r\n",
      "Requirement already satisfied: py4j==0.10.9.7 in /home/slava/Documents/У(ч)ёба/Большие Данные/BigDataLabs/venv/lib/python3.11/site-packages (from pyspark==3.5.1) (0.10.9.7)\r\n"
     ]
    }
   ],
   "execution_count": 4
  },
  {
   "cell_type": "code",
   "source": [
    "from pyspark import SparkContext, SparkConf\n",
    "import pyspark.sql as sql\n",
    "from pyspark.sql import SparkSession\n",
    "from pyspark.sql.types import DoubleType\n",
    "from pyspark.sql.functions import udf, col, max, sum, countDistinct\n",
    "\n",
    "spark = SparkSession \\\n",
    "    .builder \\\n",
    "    .appName(\"Lab1_6407_Fomin\") \\\n",
    "    .getOrCreate()"
   ],
   "metadata": {
    "id": "5fMrKc_77yAl"
   },
   "id": "5fMrKc_77yAl",
   "outputs": [],
   "execution_count": null
  },
  {
   "cell_type": "code",
   "source": [
    "import os\n",
    "trips_path = os.path.join(\"../data/trips.csv\")\n",
    "stations_path = os.path.join(\"../data/stations.csv\")\n",
    "\n",
    "trips = spark.read \\\n",
    "        .option(\"header\", True) \\\n",
    "        .option(\"inferSchema\", True) \\\n",
    "        .option(\"DateTimeFormat\", 'M/d/y H:m') \\\n",
    "        .csv(trips_path)\n",
    "\n",
    "stations = spark.read \\\n",
    "        .option(\"header\", True) \\\n",
    "        .option(\"inferSchema\", True) \\\n",
    "        .option(\"DateTimeFormat\", 'M/d/y H:m') \\\n",
    "        .csv(stations_path)"
   ],
   "metadata": {
    "id": "TDS399-X8Csj",
    "ExecuteTime": {
     "end_time": "2024-05-09T21:38:35.684237Z",
     "start_time": "2024-05-09T21:38:30.843106Z"
    }
   },
   "id": "TDS399-X8Csj",
   "outputs": [],
   "execution_count": 6
  },
  {
   "cell_type": "markdown",
   "source": [
    "_______________________________________"
   ],
   "metadata": {
    "id": "R3c4LGez7vQo"
   },
   "id": "R3c4LGez7vQo"
  },
  {
   "cell_type": "markdown",
   "id": "03d494d9-552b-4764-8d28-c8fa8534f232",
   "metadata": {
    "tags": [],
    "id": "03d494d9-552b-4764-8d28-c8fa8534f232"
   },
   "source": [
    "### 1. Найти велосипед с максимальным временем пробега"
   ]
  },
  {
   "cell_type": "code",
   "id": "1adb6506-1568-4cc0-aaf6-1d9b869a85a5",
   "metadata": {
    "id": "1adb6506-1568-4cc0-aaf6-1d9b869a85a5",
    "outputId": "be3f65e1-ecaf-4891-eaf5-381058f269a7",
    "colab": {
     "base_uri": "https://localhost:8080/"
    },
    "ExecuteTime": {
     "end_time": "2024-05-09T22:06:48.149939Z",
     "start_time": "2024-05-09T22:06:47.586241Z"
    }
   },
   "source": [
    "trips.createOrReplaceTempView(\"trips\")\n",
    "\n",
    "total_duration_per_bike = trips.groupBy(\"bike_id\").agg(sum(\"duration\").alias(\"total_duration\"))\n",
    "most_used_bike = total_duration_per_bike.orderBy(col(\"total_duration\").desc()).first()\n",
    "\n",
    "most_used_bike"
   ],
   "outputs": [
    {
     "data": {
      "text/plain": [
       "Row(bike_id=535, total_duration=18611693)"
      ]
     },
     "execution_count": 27,
     "metadata": {},
     "output_type": "execute_result"
    }
   ],
   "execution_count": 27
  },
  {
   "cell_type": "markdown",
   "id": "56bdb1e7-3811-472d-9871-08850f809915",
   "metadata": {
    "tags": [],
    "id": "56bdb1e7-3811-472d-9871-08850f809915"
   },
   "source": [
    "### 2. Найти наибольшее геодезическое расстояние между станциями"
   ]
  },
  {
   "cell_type": "code",
   "id": "470e738d-a3d9-4cbe-b4f3-371ef6d48286",
   "metadata": {
    "id": "470e738d-a3d9-4cbe-b4f3-371ef6d48286",
    "outputId": "ea7c15ab-8533-45e2-f2ad-6058bd9f28c5",
    "colab": {
     "base_uri": "https://localhost:8080/"
    },
    "ExecuteTime": {
     "end_time": "2024-05-09T22:34:52.827432Z",
     "start_time": "2024-05-09T22:34:52.706658Z"
    }
   },
   "source": [
    "from pyspark.sql.functions import col\n",
    "\n",
    "print(\"Кол-во станций: \", stations.count())\n",
    "stations_to_stations = stations.crossJoin(stations.select(\n",
    "    col(\"lat\").alias(\"lat2\"),\n",
    "    col(\"long\").alias(\"long2\"),\n",
    "))\n",
    "print(\"Станции к станциям: \", stations_to_stations.count())\n",
    "\n",
    "stations_to_stations.printSchema()"
   ],
   "outputs": [
    {
     "name": "stdout",
     "output_type": "stream",
     "text": [
      "Кол-во станций:  70\n",
      "Станции к станциям:  4900\n",
      "root\n",
      " |-- id: integer (nullable = true)\n",
      " |-- name: string (nullable = true)\n",
      " |-- lat: double (nullable = true)\n",
      " |-- long: double (nullable = true)\n",
      " |-- dock_count: integer (nullable = true)\n",
      " |-- city: string (nullable = true)\n",
      " |-- installation_date: string (nullable = true)\n",
      " |-- lat2: double (nullable = true)\n",
      " |-- long2: double (nullable = true)\n",
      "\n"
     ]
    }
   ],
   "execution_count": 42
  },
  {
   "cell_type": "code",
   "id": "8ea83df1-c5c5-46c7-a364-c147ecda2cd6",
   "metadata": {
    "id": "8ea83df1-c5c5-46c7-a364-c147ecda2cd6",
    "colab": {
     "base_uri": "https://localhost:8080/"
    },
    "outputId": "41e1135c-e962-481d-f8b6-a716bf80f004",
    "ExecuteTime": {
     "end_time": "2024-05-09T21:47:43.779019Z",
     "start_time": "2024-05-09T21:47:43.628447Z"
    }
   },
   "source": [
    "import math\n",
    "from pyspark.sql.functions import col\n",
    "from pyspark.sql.functions import max\n",
    "\n",
    "def geodesic_distance(lat1, lon1, lat2, lon2):\n",
    "    lat1 = math.radians(lat1)\n",
    "    lat2 = math.radians(lat2)\n",
    "    lon1 = math.radians(lon1)\n",
    "    lon2 = math.radians(lon2)\n",
    "\n",
    "    try:\n",
    "        distance = 6371 * math.acos(math.cos(lat1) * math.cos(lat2) * math.cos(lon1 - lon2) + math.sin(lat1) * math.sin(lat2))\n",
    "    except:\n",
    "        distance = 0.0\n",
    "\n",
    "    return distance\n",
    "\n",
    "\n",
    "\n",
    "haversine_udf = udf(geodesic_distance, DoubleType())\n",
    "distances = stations_to_stations.withColumn(\n",
    "    \"distance\",\n",
    "    haversine_udf(stations_to_stations['lat'], stations_to_stations['long'], stations_to_stations['lat2'], stations_to_stations['long2']),\n",
    ")\n",
    "\n",
    "max_distance = distances.agg(max(\"distance\").alias(\"max_distance\")).collect()[0][\"max_distance\"]\n",
    "print(f\"Максимальное расстояние: {max_distance}\")"
   ],
   "outputs": [
    {
     "name": "stdout",
     "output_type": "stream",
     "text": [
      "Максимальное расстояние: 69.92087595421542\n"
     ]
    }
   ],
   "execution_count": 20
  },
  {
   "cell_type": "markdown",
   "id": "bc568fbe-df6a-4d79-9c5d-99ce15b991d3",
   "metadata": {
    "id": "bc568fbe-df6a-4d79-9c5d-99ce15b991d3"
   },
   "source": [
    "### 3. Найти путь велосипеда с максимальным временем пробега через станции"
   ]
  },
  {
   "cell_type": "code",
   "id": "17b5c43f-cf72-4b2b-a7f0-578b3e7f0296",
   "metadata": {
    "id": "17b5c43f-cf72-4b2b-a7f0-578b3e7f0296",
    "colab": {
     "base_uri": "https://localhost:8080/"
    },
    "outputId": "0073a646-e5ad-41ed-f044-d113c2094de6",
    "ExecuteTime": {
     "end_time": "2024-05-09T22:26:28.758786Z",
     "start_time": "2024-05-09T22:26:28.213801Z"
    }
   },
   "source": [
    "from pyspark.sql.functions import to_timestamp\n",
    "\n",
    "(trips.select(col(\"start_date\"), col(\"start_station_name\"), col(\"end_station_name\"), col(\"duration\"))\n",
    "    .where(col(\"bike_id\") == most_used_bike[\"bike_id\"])\n",
    "    .withColumn(\"start_date\", to_timestamp(col(\"start_date\"), 'M/d/yyyy H:mm'))\n",
    "    .orderBy(\"start_date\")\n",
    "    .show())"
   ],
   "outputs": [
    {
     "name": "stdout",
     "output_type": "stream",
     "text": [
      "+-------------------+--------------------+--------------------+--------+\n",
      "|         start_date|  start_station_name|    end_station_name|duration|\n",
      "+-------------------+--------------------+--------------------+--------+\n",
      "|2013-08-29 19:32:00|     Post at Kearney|San Francisco Cal...|    1245|\n",
      "|2013-08-29 21:38:00|San Francisco Cal...|San Francisco Cal...|     423|\n",
      "|2013-08-30 08:40:00|San Francisco Cal...|   Market at Sansome|     842|\n",
      "|2013-08-30 09:10:00|   Market at Sansome|   2nd at South Park|     498|\n",
      "|2013-09-01 12:58:00|     2nd at Townsend|    Davis at Jackson|    1671|\n",
      "|2013-09-05 11:59:00|San Francisco Cit...|Civic Center BART...|     260|\n",
      "|2013-09-06 10:55:00|Civic Center BART...|     Post at Kearney|    1192|\n",
      "|2013-09-06 13:58:00|     Post at Kearney|Embarcadero at Sa...|    1248|\n",
      "|2013-09-06 15:07:00|Embarcadero at Sa...|Washington at Kea...|    1272|\n",
      "|2013-09-06 23:22:00|Washington at Kea...|   Market at Sansome|     398|\n",
      "|2013-09-07 12:08:00|   Market at Sansome|   Market at Sansome|   12476|\n",
      "|2013-09-08 10:56:00|   Market at Sansome|       2nd at Folsom|     582|\n",
      "|2013-09-08 13:15:00|       2nd at Folsom|     2nd at Townsend|     499|\n",
      "|2013-09-09 08:31:00|Temporary Transba...|     2nd at Townsend|     467|\n",
      "|2013-09-09 08:40:00|     2nd at Townsend|Embarcadero at Sa...|     945|\n",
      "|2013-09-09 09:41:00|Embarcadero at Sa...|     Clay at Battery|     935|\n",
      "|2013-09-09 13:44:00|     Clay at Battery|Harry Bridges Pla...|     207|\n",
      "|2013-09-09 13:52:00|Harry Bridges Pla...|     Clay at Battery|     231|\n",
      "|2013-09-09 16:51:00|     Clay at Battery|San Francisco Cal...|    1082|\n",
      "|2013-09-10 08:44:00|San Francisco Cal...|   Steuart at Market|     642|\n",
      "+-------------------+--------------------+--------------------+--------+\n",
      "only showing top 20 rows\n",
      "\n"
     ]
    }
   ],
   "execution_count": 36
  },
  {
   "cell_type": "markdown",
   "id": "277c5d75-d881-4e9a-ba47-9d669b8e9dbc",
   "metadata": {
    "id": "277c5d75-d881-4e9a-ba47-9d669b8e9dbc"
   },
   "source": [
    "### 4. Найти количество велосипедов в системе"
   ]
  },
  {
   "cell_type": "code",
   "id": "004ef678-9a1a-4175-88f0-756c62dd2316",
   "metadata": {
    "id": "004ef678-9a1a-4175-88f0-756c62dd2316",
    "colab": {
     "base_uri": "https://localhost:8080/"
    },
    "outputId": "466295e5-bedb-4ca0-f4af-f351754e4c74",
    "ExecuteTime": {
     "end_time": "2024-05-09T22:29:09.155019Z",
     "start_time": "2024-05-09T22:29:08.718306Z"
    }
   },
   "source": [
    "trips.select(\"bike_id\").distinct().count()"
   ],
   "outputs": [
    {
     "data": {
      "text/plain": [
       "700"
      ]
     },
     "execution_count": 37,
     "metadata": {},
     "output_type": "execute_result"
    }
   ],
   "execution_count": 37
  },
  {
   "cell_type": "markdown",
   "id": "a7594164-b78c-4df3-9d83-917abad147d8",
   "metadata": {
    "id": "a7594164-b78c-4df3-9d83-917abad147d8"
   },
   "source": [
    "### 5. Найти пользователей потративших на поездки более 3 часов"
   ]
  },
  {
   "cell_type": "code",
   "id": "16848c83-7ec2-4d6e-9b8d-006fe7a92d2a",
   "metadata": {
    "id": "16848c83-7ec2-4d6e-9b8d-006fe7a92d2a",
    "colab": {
     "base_uri": "https://localhost:8080/"
    },
    "outputId": "296e4797-b6f6-471e-811b-a6df8e8cc596",
    "ExecuteTime": {
     "end_time": "2024-05-09T22:31:53.853221Z",
     "start_time": "2024-05-09T22:31:53.028481Z"
    }
   },
   "source": [
    "seconds_3_hours = 3 * 60 * 60\n",
    "answer = trips.groupBy(\"bike_id\").sum(\"duration\").filter(f\"sum(duration)>{seconds_3_hours}\")\n",
    "answer.show()"
   ],
   "outputs": [
    {
     "name": "stdout",
     "output_type": "stream",
     "text": [
      "+-------+-------------+\n",
      "|bike_id|sum(duration)|\n",
      "+-------+-------------+\n",
      "|    471|      1718831|\n",
      "|    496|      1679568|\n",
      "|    148|       332138|\n",
      "|    463|      1722796|\n",
      "|    540|      1752835|\n",
      "|    392|      1789476|\n",
      "|    623|      2037219|\n",
      "|    243|       307458|\n",
      "|    516|      1896751|\n",
      "|     31|       407907|\n",
      "|    580|      1034382|\n",
      "|    137|      1529200|\n",
      "|    251|      1282980|\n",
      "|    451|      1695574|\n",
      "|     85|      1214769|\n",
      "|    458|      1647080|\n",
      "|     65|       216922|\n",
      "|    588|       266415|\n",
      "|    255|       396395|\n",
      "|     53|       226389|\n",
      "+-------+-------------+\n",
      "only showing top 20 rows\n",
      "\n"
     ]
    },
    {
     "data": {
      "text/plain": [
       "699"
      ]
     },
     "execution_count": 41,
     "metadata": {},
     "output_type": "execute_result"
    }
   ],
   "execution_count": 41
  }
 ],
 "metadata": {
  "kernelspec": {
   "display_name": "Python 3",
   "language": "python",
   "name": "python3"
  },
  "language_info": {
   "codemirror_mode": {
    "name": "ipython",
    "version": 3
   },
   "file_extension": ".py",
   "mimetype": "text/x-python",
   "name": "python",
   "nbconvert_exporter": "python",
   "pygments_lexer": "ipython3",
   "version": "3.9.5"
  },
  "colab": {
   "provenance": []
  }
 },
 "nbformat": 4,
 "nbformat_minor": 5
}
