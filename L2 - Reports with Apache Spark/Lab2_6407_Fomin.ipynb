{
 "cells": [
  {
   "cell_type": "code",
   "id": "86b3dc77-c86f-4ec1-86d5-196ec60591f7",
   "metadata": {
    "id": "86b3dc77-c86f-4ec1-86d5-196ec60591f7"
   },
   "source": [
    "import os\n",
    "os.environ[\"SPARK_HOME\"] = \"spark-3.5.1-bin-hadoop3\"\n",
    "os.environ[\"JAVA_HOME\"] = \"/usr\""
   ],
   "outputs": [],
   "execution_count": 78
  },
  {
   "cell_type": "code",
   "id": "dfc5f6cd-579e-45c8-8236-0f79ecf05f4c",
   "metadata": {
    "colab": {
     "base_uri": "https://localhost:8080/"
    },
    "id": "dfc5f6cd-579e-45c8-8236-0f79ecf05f4c",
    "outputId": "50824448-6b1f-449f-f6d9-8441185c0515"
   },
   "source": [
    "!pip install findspark"
   ],
   "outputs": [
    {
     "name": "stdout",
     "output_type": "stream",
     "text": [
      "Requirement already satisfied: findspark in /home/slava/Documents/У(ч)ёба/Большие Данные/BigDataLabs/venv/lib/python3.11/site-packages (2.0.1)\r\n"
     ]
    }
   ],
   "execution_count": 79
  },
  {
   "cell_type": "code",
   "source": [
    "import findspark\n",
    "findspark.init()"
   ],
   "metadata": {
    "id": "Itkia5eQFz7g"
   },
   "id": "Itkia5eQFz7g",
   "outputs": [],
   "execution_count": 80
  },
  {
   "cell_type": "code",
   "source": "!pip3 install pyspark==3.5.1",
   "metadata": {
    "colab": {
     "base_uri": "https://localhost:8080/"
    },
    "id": "fGoaBYsLF2-c",
    "outputId": "7e9dbb8d-5049-4c9c-fc22-20cac7701e08"
   },
   "id": "fGoaBYsLF2-c",
   "outputs": [
    {
     "name": "stdout",
     "output_type": "stream",
     "text": [
      "Requirement already satisfied: pyspark==3.5.1 in /home/slava/Documents/У(ч)ёба/Большие Данные/BigDataLabs/venv/lib/python3.11/site-packages (3.5.1)\r\n",
      "Requirement already satisfied: py4j==0.10.9.7 in /home/slava/Documents/У(ч)ёба/Большие Данные/BigDataLabs/venv/lib/python3.11/site-packages (from pyspark==3.5.1) (0.10.9.7)\r\n"
     ]
    }
   ],
   "execution_count": 81
  },
  {
   "cell_type": "code",
   "source": [
    "# Инициализация\n",
    "\n",
    "from pyspark.sql import SparkSession\n",
    "\n",
    "spark = SparkSession \\\n",
    "    .builder \\\n",
    "    .appName(\"Lab2_6407_Fomin\") \\\n",
    "    .config(\"spark.jars.packages\", \"com.databricks:spark-xml_2.12:0.13.0\") \\\n",
    "    .getOrCreate()"
   ],
   "metadata": {
    "id": "zjaJLhUOGCoI"
   },
   "id": "zjaJLhUOGCoI",
   "outputs": [],
   "execution_count": 82
  },
  {
   "cell_type": "markdown",
   "source": [
    "## Задание\n",
    "\n",
    "Сформировать отчёт с информацией о 10 наиболее популярных языках программирования по итогам года за период с 2010 по 2020 годы. Отчёт будет отражать динамику изменения популярности языков программирования и представлять собой набор таблиц \"топ-10\" для каждого года.\n",
    "\n",
    "Получившийся отчёт сохранить в формате Apache Parquet.\n",
    "\n",
    "Для выполнения задания вы можете использовать любую комбинацию Spark API: **RDD API**, **Dataset API**, **SQL API**."
   ],
   "metadata": {
    "id": "Gj5BUd5JFTfC"
   },
   "id": "Gj5BUd5JFTfC"
  },
  {
   "metadata": {},
   "cell_type": "code",
   "source": [
    "prog_path = '../data/programming-languages.csv'\n",
    "posts_path = '../data/posts_sample.xml'\n",
    "\n",
    "posts = spark.read.format('xml').options(rowTag='row').load(posts_path)\n",
    "\n",
    "program = spark.read \\\n",
    "      .option(\"header\", True) \\\n",
    "      .option(\"inferSchema\", True) \\\n",
    "      .option(\"DateTimeFormat\", 'M/d/y H:m') \\\n",
    "      .csv(prog_path)\n",
    "\n",
    "posts.printSchema()"
   ],
   "id": "qwoy5A-BGIls",
   "outputs": [
    {
     "name": "stdout",
     "output_type": "stream",
     "text": [
      "root\n",
      " |-- _AcceptedAnswerId: long (nullable = true)\n",
      " |-- _AnswerCount: long (nullable = true)\n",
      " |-- _Body: string (nullable = true)\n",
      " |-- _ClosedDate: timestamp (nullable = true)\n",
      " |-- _CommentCount: long (nullable = true)\n",
      " |-- _CommunityOwnedDate: timestamp (nullable = true)\n",
      " |-- _CreationDate: timestamp (nullable = true)\n",
      " |-- _FavoriteCount: long (nullable = true)\n",
      " |-- _Id: long (nullable = true)\n",
      " |-- _LastActivityDate: timestamp (nullable = true)\n",
      " |-- _LastEditDate: timestamp (nullable = true)\n",
      " |-- _LastEditorDisplayName: string (nullable = true)\n",
      " |-- _LastEditorUserId: long (nullable = true)\n",
      " |-- _OwnerDisplayName: string (nullable = true)\n",
      " |-- _OwnerUserId: long (nullable = true)\n",
      " |-- _ParentId: long (nullable = true)\n",
      " |-- _PostTypeId: long (nullable = true)\n",
      " |-- _Score: long (nullable = true)\n",
      " |-- _Tags: string (nullable = true)\n",
      " |-- _Title: string (nullable = true)\n",
      " |-- _ViewCount: long (nullable = true)\n",
      "\n"
     ]
    }
   ],
   "execution_count": 83
  },
  {
   "metadata": {},
   "cell_type": "code",
   "source": [
    "from pyspark.sql.functions import col\n",
    "\n",
    "posts.select(col(\"_CreationDate\"), col(\"_ViewCount\"), col(\"_Tags\")).show(5)"
   ],
   "id": "9ee77a5ab6bbd61",
   "outputs": [
    {
     "name": "stdout",
     "output_type": "stream",
     "text": [
      "+--------------------+----------+--------------------+\n",
      "|       _CreationDate|_ViewCount|               _Tags|\n",
      "+--------------------+----------+--------------------+\n",
      "|2008-08-01 02:42:...|     42817|<c#><floating-poi...|\n",
      "|2008-08-01 03:08:...|     18214|<html><css><inter...|\n",
      "|2008-08-01 03:17:...|      NULL|                NULL|\n",
      "|2008-08-01 04:40:...|    555183|<c#><.net><datetime>|\n",
      "|2008-08-01 04:55:...|    149445|<c#><datetime><ti...|\n",
      "+--------------------+----------+--------------------+\n",
      "only showing top 5 rows\n",
      "\n"
     ]
    }
   ],
   "execution_count": 84
  },
  {
   "cell_type": "code",
   "id": "27cc3607-66aa-4840-93a5-01ee29f27f78",
   "metadata": {
    "id": "27cc3607-66aa-4840-93a5-01ee29f27f78",
    "colab": {
     "base_uri": "https://localhost:8080/"
    },
    "outputId": "f5b7d285-fa7a-4c9c-ed27-e0ea4c5601f5"
   },
   "source": [
    "from pyspark.sql.functions import split, udf, from_unixtime, unix_timestamp\n",
    "\n",
    "strip_udf = udf(lambda string: string[1: -1])\n",
    "selected_posts = (\n",
    "    posts.filter(col(\"_Tags\").isNotNull())\n",
    "        .withColumn(\"year\", from_unixtime(unix_timestamp(col(\"_CreationDate\")), \"yyyy\").cast(\"int\"))\n",
    "        .withColumn(\"views_count\", col(\"_ViewCount\"))\n",
    "        .withColumn(\"tags\", split(strip_udf(col(\"_Tags\")), \"><\"))\n",
    "        .select(col(\"year\"), col(\"views_count\"), col(\"tags\"))\n",
    ")\n",
    "\n",
    "selected_posts.show(truncate=False)"
   ],
   "outputs": [
    {
     "name": "stdout",
     "output_type": "stream",
     "text": [
      "+----+-----------+------------------------------------------------------+\n",
      "|year|views_count|tags                                                  |\n",
      "+----+-----------+------------------------------------------------------+\n",
      "|2008|42817      |[c#, floating-point, type-conversion, double, decimal]|\n",
      "|2008|18214      |[html, css, internet-explorer-7]                      |\n",
      "|2008|555183     |[c#, .net, datetime]                                  |\n",
      "|2008|149445     |[c#, datetime, time, datediff, relative-time-span]    |\n",
      "|2008|176405     |[html, browser, timezone, user-agent, timezone-offset]|\n",
      "|2008|123231     |[.net, math]                                          |\n",
      "|2010|3650       |[c++, character-encoding]                             |\n",
      "|2010|617        |[sharepoint, infopath]                                |\n",
      "|2010|1315       |[iphone, app-store, in-app-purchase]                  |\n",
      "|2010|973        |[symfony1, schema, doctrine, fixtures]                |\n",
      "|2010|132        |[java]                                                |\n",
      "|2010|419        |[visual-studio-2010, stylecop]                        |\n",
      "|2010|869        |[cakephp, file-upload, swfupload]                     |\n",
      "|2010|1303       |[git, cygwin, putty]                                  |\n",
      "|2010|748        |[drupal, drupal-6]                                    |\n",
      "|2010|1258       |[php, wordpress, memory]                              |\n",
      "|2010|14972      |[c#, winforms, data-binding, checkedlistbox]          |\n",
      "|2010|274        |[c#, asp.net, exception-handling]                     |\n",
      "|2010|804        |[sql, xml, blob]                                      |\n",
      "|2010|6019       |[.htaccess, codeigniter]                              |\n",
      "+----+-----------+------------------------------------------------------+\n",
      "only showing top 20 rows\n",
      "\n"
     ]
    }
   ],
   "execution_count": 85
  },
  {
   "cell_type": "markdown",
   "id": "a15623c4-6ad6-4814-abd2-54ba79ecae1f",
   "metadata": {
    "id": "a15623c4-6ad6-4814-abd2-54ba79ecae1f"
   },
   "source": [
    "Столбец languages распакуем по примеру\n",
    "<br/>Из записи: <br/>\n",
    "|2010| 599| [c#, c++, java]|\n",
    "<br/>Получилось 3 новых записи:<br/>\n",
    "|2010| 599| c#  |<br/>\n",
    "|2010| 599| c++ |<br/>\n",
    "|2010| 599| java|<br/>"
   ]
  },
  {
   "cell_type": "code",
   "id": "306b0a28-fcbe-487f-9a48-e4ce20ee8ed3",
   "metadata": {
    "colab": {
     "base_uri": "https://localhost:8080/"
    },
    "id": "306b0a28-fcbe-487f-9a48-e4ce20ee8ed3",
    "outputId": "37c721b2-21ce-4378-9233-52a4b168243b"
   },
   "source": [
    "from pyspark.sql.functions import explode\n",
    "exploded_posts = filtered_posts.select(filtered_posts.year, filtered_posts.views, explode(filtered_posts.languages)).withColumnRenamed(\"col\", \"language\")\n",
    "exploded_posts.show()"
   ],
   "outputs": [
    {
     "name": "stdout",
     "output_type": "stream",
     "text": [
      "+----+-----+------------------+\n",
      "|year|views|          language|\n",
      "+----+-----+------------------+\n",
      "|2010| 3650|               c++|\n",
      "|2010| 3650|character-encoding|\n",
      "|2010|  617|        sharepoint|\n",
      "|2010|  617|          infopath|\n",
      "|2010| 1315|            iphone|\n",
      "|2010| 1315|         app-store|\n",
      "|2010| 1315|   in-app-purchase|\n",
      "|2010|  973|          symfony1|\n",
      "|2010|  973|            schema|\n",
      "|2010|  973|          doctrine|\n",
      "|2010|  973|          fixtures|\n",
      "|2010|  132|              java|\n",
      "|2010|  419|visual-studio-2010|\n",
      "|2010|  419|          stylecop|\n",
      "|2010|  869|           cakephp|\n",
      "|2010|  869|       file-upload|\n",
      "|2010|  869|         swfupload|\n",
      "|2010| 1303|               git|\n",
      "|2010| 1303|            cygwin|\n",
      "|2010| 1303|             putty|\n",
      "+----+-----+------------------+\n",
      "only showing top 20 rows\n",
      "\n"
     ]
    }
   ],
   "execution_count": 86
  },
  {
   "cell_type": "code",
   "id": "edf38f33-86cd-4128-9215-aa1571291bfa",
   "metadata": {
    "colab": {
     "base_uri": "https://localhost:8080/"
    },
    "id": "edf38f33-86cd-4128-9215-aa1571291bfa",
    "outputId": "3ddccceb-6a2a-44c1-bffa-25e74d110834"
   },
   "source": [
    "from pyspark.sql.functions import lower\n",
    "\n",
    "prog = (program.drop(\"wikipedia_url\")).withColumn(\"name\",  lower(\"name\"))\n",
    "prog.show()"
   ],
   "outputs": [
    {
     "name": "stdout",
     "output_type": "stream",
     "text": [
      "+------------+\n",
      "|        name|\n",
      "+------------+\n",
      "|     a# .net|\n",
      "|  a# (axiom)|\n",
      "|  a-0 system|\n",
      "|          a+|\n",
      "|         a++|\n",
      "|        abap|\n",
      "|         abc|\n",
      "|   abc algol|\n",
      "|       abset|\n",
      "|       absys|\n",
      "|         acc|\n",
      "|      accent|\n",
      "|    ace dasl|\n",
      "|        acl2|\n",
      "|     act-iii|\n",
      "|     action!|\n",
      "|actionscript|\n",
      "|         ada|\n",
      "|     adenine|\n",
      "|        agda|\n",
      "+------------+\n",
      "only showing top 20 rows\n",
      "\n"
     ]
    }
   ],
   "execution_count": 87
  },
  {
   "cell_type": "code",
   "id": "2df182e9-d6db-47f8-a366-45916807f3ca",
   "metadata": {
    "colab": {
     "base_uri": "https://localhost:8080/"
    },
    "id": "2df182e9-d6db-47f8-a366-45916807f3ca",
    "outputId": "e568d7a1-4e5b-41c0-e534-d3bc71329af9"
   },
   "source": [
    "exploded_posts = exploded_posts.crossJoin(prog).where(\"language = name\")\n",
    "counted_posts = exploded_posts.groupBy(\"year\", \"language\").agg({\"views\": \"sum\"})\n",
    "counted_posts.show()"
   ],
   "outputs": [
    {
     "name": "stdout",
     "output_type": "stream",
     "text": [
      "+----+----------+----------+\n",
      "|year|  language|sum(views)|\n",
      "+----+----------+----------+\n",
      "|2013|    erlang|      2302|\n",
      "|2017|typescript|     29031|\n",
      "|2017|       sed|        93|\n",
      "|2013|javascript|    609571|\n",
      "|2013|        f#|      4317|\n",
      "|2012|powershell|     17311|\n",
      "|2019|       php|      3753|\n",
      "|2017|   haskell|      4040|\n",
      "|2013|autohotkey|      4421|\n",
      "|2019|     xpath|        27|\n",
      "|2015|    racket|       762|\n",
      "|2017|        go|      1356|\n",
      "|2018|     perl6|       109|\n",
      "|2012|        f#|      1222|\n",
      "|2018|    python|     99996|\n",
      "|2017|    prolog|        76|\n",
      "|2014|       php|    238579|\n",
      "|2018|       x++|        78|\n",
      "|2014|       lua|       845|\n",
      "|2019|   haskell|        85|\n",
      "+----+----------+----------+\n",
      "only showing top 20 rows\n",
      "\n"
     ]
    }
   ],
   "execution_count": 88
  },
  {
   "cell_type": "code",
   "id": "f78d84ff-8389-4684-a67e-3320095cb0b5",
   "metadata": {
    "colab": {
     "base_uri": "https://localhost:8080/"
    },
    "id": "f78d84ff-8389-4684-a67e-3320095cb0b5",
    "outputId": "62b857a7-4aa9-4abe-a079-60fac390db42"
   },
   "source": [
    "from pyspark.sql.window import Window\n",
    "from pyspark.sql.functions import row_number\n",
    "\n",
    "window = Window.partitionBy(counted_posts.year).orderBy(col(\"sum(views)\").desc())\n",
    "tempDF = counted_posts.withColumn(\"rank\", row_number().over(window))\n",
    "tempDF = tempDF.withColumnRenamed(\"sum(views)\", \"views\")\n",
    "tempDF.show()"
   ],
   "outputs": [
    {
     "name": "stdout",
     "output_type": "stream",
     "text": [
      "+----+------------+-------+----+\n",
      "|year|    language|  views|rank|\n",
      "+----+------------+-------+----+\n",
      "|2010|         php|1189629|   1|\n",
      "|2010|        java| 563211|   2|\n",
      "|2010|  javascript| 316131|   3|\n",
      "|2010| objective-c|  97009|   4|\n",
      "|2010|        ruby|  76215|   5|\n",
      "|2010|           c|  66587|   6|\n",
      "|2010|      python|  60672|   7|\n",
      "|2010|      matlab|  51865|   8|\n",
      "|2010| applescript|  32305|   9|\n",
      "|2010|      delphi|  13065|  10|\n",
      "|2010|           r|  11087|  11|\n",
      "|2010|        perl|   6820|  12|\n",
      "|2010|        bash|   6645|  13|\n",
      "|2010|     haskell|   5601|  14|\n",
      "|2010|       xpath|   5122|  15|\n",
      "|2010|actionscript|   5104|  16|\n",
      "|2010|         sed|   4573|  17|\n",
      "|2010|  powershell|   4461|  18|\n",
      "|2010|       scala|   3330|  19|\n",
      "|2010|          go|   3171|  20|\n",
      "+----+------------+-------+----+\n",
      "only showing top 20 rows\n",
      "\n"
     ]
    }
   ],
   "execution_count": 89
  },
  {
   "cell_type": "code",
   "id": "51ddbaa4-02cc-41ba-87b8-e412805b5511",
   "metadata": {
    "colab": {
     "base_uri": "https://localhost:8080/"
    },
    "id": "51ddbaa4-02cc-41ba-87b8-e412805b5511",
    "outputId": "59c8ba2f-0486-4fbb-d496-31a26d2a45fa"
   },
   "source": [
    "tempDF = tempDF.filter(col(\"rank\") <= 10)\n",
    "result = tempDF.drop(\"rank\")\n",
    "result = result.orderBy(col(\"year\").asc(), col(\"views\").desc())\n",
    "result.show()"
   ],
   "outputs": [
    {
     "name": "stdout",
     "output_type": "stream",
     "text": [
      "+----+-----------+-------+\n",
      "|year|   language|  views|\n",
      "+----+-----------+-------+\n",
      "|2010|        php|1189629|\n",
      "|2010|       java| 563211|\n",
      "|2010| javascript| 316131|\n",
      "|2010|objective-c|  97009|\n",
      "|2010|       ruby|  76215|\n",
      "|2010|          c|  66587|\n",
      "|2010|     python|  60672|\n",
      "|2010|     matlab|  51865|\n",
      "|2010|applescript|  32305|\n",
      "|2010|     delphi|  13065|\n",
      "|2011| javascript| 809078|\n",
      "|2011|       java| 389834|\n",
      "|2011|        php| 246770|\n",
      "|2011|          c| 238277|\n",
      "|2011|objective-c| 218934|\n",
      "|2011|     python| 203180|\n",
      "|2011|       bash|  60805|\n",
      "|2011|       ruby|  39223|\n",
      "|2011|       perl|  28502|\n",
      "|2011|     matlab|  18816|\n",
      "+----+-----------+-------+\n",
      "only showing top 20 rows\n",
      "\n"
     ]
    }
   ],
   "execution_count": 90
  },
  {
   "cell_type": "code",
   "source": [
    "directory_path = \"result_data.parquet\"\n",
    "result.write.parquet(directory_path)"
   ],
   "metadata": {
    "id": "DxvzImGJJjYa"
   },
   "id": "DxvzImGJJjYa",
   "outputs": [],
   "execution_count": 91
  },
  {
   "cell_type": "code",
   "source": [
    "!ls"
   ],
   "metadata": {
    "colab": {
     "base_uri": "https://localhost:8080/"
    },
    "id": "4AFVkMikLcBQ",
    "outputId": "f85cdd2e-9362-4042-a41b-c7e6c3f9353f"
   },
   "id": "4AFVkMikLcBQ",
   "outputs": [
    {
     "name": "stdout",
     "output_type": "stream",
     "text": [
      "example_of_runing_report_script_in_azure.png  README.md\r\n",
      "hints.md\t\t\t\t      result_data.parquet\r\n",
      "__init__.py\t\t\t\t      spark-3.5.1-bin-hadoop3\r\n",
      "Lab2_6407_Fomin.ipynb\r\n"
     ]
    }
   ],
   "execution_count": 92
  },
  {
   "cell_type": "code",
   "source": [
    "# Удаление\n",
    "\n",
    "import shutil\n",
    "shutil.rmtree(directory_path)"
   ],
   "metadata": {
    "id": "NPfotN4SKxfU"
   },
   "id": "NPfotN4SKxfU",
   "outputs": [],
   "execution_count": 93
  }
 ],
 "metadata": {
  "kernelspec": {
   "display_name": "Python 3",
   "language": "python",
   "name": "python3"
  },
  "language_info": {
   "codemirror_mode": {
    "name": "ipython",
    "version": 3
   },
   "file_extension": ".py",
   "mimetype": "text/x-python",
   "name": "python",
   "nbconvert_exporter": "python",
   "pygments_lexer": "ipython3",
   "version": "3.9.5"
  },
  "colab": {
   "provenance": []
  }
 },
 "nbformat": 4,
 "nbformat_minor": 5
}
