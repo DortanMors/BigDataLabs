{
 "cells": [
  {
   "cell_type": "code",
   "id": "86b3dc77-c86f-4ec1-86d5-196ec60591f7",
   "metadata": {
    "id": "86b3dc77-c86f-4ec1-86d5-196ec60591f7",
    "ExecuteTime": {
     "end_time": "2024-05-10T01:38:51.348346Z",
     "start_time": "2024-05-10T01:38:51.346105Z"
    }
   },
   "source": [
    "import os\n",
    "os.environ[\"SPARK_HOME\"] = \"spark-3.5.1-bin-hadoop3\"\n",
    "os.environ[\"JAVA_HOME\"] = \"/usr\""
   ],
   "outputs": [],
   "execution_count": 146
  },
  {
   "cell_type": "code",
   "id": "dfc5f6cd-579e-45c8-8236-0f79ecf05f4c",
   "metadata": {
    "colab": {
     "base_uri": "https://localhost:8080/"
    },
    "id": "dfc5f6cd-579e-45c8-8236-0f79ecf05f4c",
    "outputId": "50824448-6b1f-449f-f6d9-8441185c0515",
    "ExecuteTime": {
     "end_time": "2024-05-10T01:38:52.858014Z",
     "start_time": "2024-05-10T01:38:51.456537Z"
    }
   },
   "source": [
    "!pip install findspark"
   ],
   "outputs": [
    {
     "name": "stdout",
     "output_type": "stream",
     "text": [
      "Requirement already satisfied: findspark in /home/slava/Documents/У(ч)ёба/Большие Данные/BigDataLabs/venv/lib/python3.11/site-packages (2.0.1)\r\n"
     ]
    }
   ],
   "execution_count": 147
  },
  {
   "cell_type": "code",
   "source": [
    "import findspark\n",
    "findspark.init()"
   ],
   "metadata": {
    "id": "Itkia5eQFz7g",
    "ExecuteTime": {
     "end_time": "2024-05-10T01:38:52.861846Z",
     "start_time": "2024-05-10T01:38:52.859431Z"
    }
   },
   "id": "Itkia5eQFz7g",
   "outputs": [],
   "execution_count": 148
  },
  {
   "cell_type": "code",
   "source": "!pip3 install pyspark==3.5.1",
   "metadata": {
    "colab": {
     "base_uri": "https://localhost:8080/"
    },
    "id": "fGoaBYsLF2-c",
    "outputId": "7e9dbb8d-5049-4c9c-fc22-20cac7701e08",
    "ExecuteTime": {
     "end_time": "2024-05-10T01:38:54.076375Z",
     "start_time": "2024-05-10T01:38:52.862541Z"
    }
   },
   "id": "fGoaBYsLF2-c",
   "outputs": [
    {
     "name": "stdout",
     "output_type": "stream",
     "text": [
      "Requirement already satisfied: pyspark==3.5.1 in /home/slava/Documents/У(ч)ёба/Большие Данные/BigDataLabs/venv/lib/python3.11/site-packages (3.5.1)\r\n",
      "Requirement already satisfied: py4j==0.10.9.7 in /home/slava/Documents/У(ч)ёба/Большие Данные/BigDataLabs/venv/lib/python3.11/site-packages (from pyspark==3.5.1) (0.10.9.7)\r\n"
     ]
    }
   ],
   "execution_count": 149
  },
  {
   "cell_type": "code",
   "source": [
    "# Инициализация\n",
    "\n",
    "from pyspark.sql import SparkSession\n",
    "\n",
    "spark = SparkSession \\\n",
    "    .builder \\\n",
    "    .appName(\"Lab2_6407_Fomin\") \\\n",
    "    .config(\"spark.jars.packages\", \"com.databricks:spark-xml_2.12:0.13.0\") \\\n",
    "    .getOrCreate()"
   ],
   "metadata": {
    "id": "zjaJLhUOGCoI",
    "ExecuteTime": {
     "end_time": "2024-05-10T01:38:54.084049Z",
     "start_time": "2024-05-10T01:38:54.078230Z"
    }
   },
   "id": "zjaJLhUOGCoI",
   "outputs": [],
   "execution_count": 150
  },
  {
   "cell_type": "markdown",
   "source": [
    "## Задание\n",
    "\n",
    "Сформировать отчёт с информацией о 10 наиболее популярных языках программирования по итогам года за период с 2010 по 2020 годы. Отчёт будет отражать динамику изменения популярности языков программирования и представлять собой набор таблиц \"топ-10\" для каждого года.\n",
    "\n",
    "Получившийся отчёт сохранить в формате Apache Parquet.\n",
    "\n",
    "Для выполнения задания вы можете использовать любую комбинацию Spark API: **RDD API**, **Dataset API**, **SQL API**."
   ],
   "metadata": {
    "id": "Gj5BUd5JFTfC"
   },
   "id": "Gj5BUd5JFTfC"
  },
  {
   "metadata": {
    "ExecuteTime": {
     "end_time": "2024-05-10T01:38:56.500311Z",
     "start_time": "2024-05-10T01:38:54.084897Z"
    }
   },
   "cell_type": "code",
   "source": [
    "languages_path = '../data/programming-languages.csv'\n",
    "posts_path = '../data/posts_sample.xml'\n",
    "\n",
    "posts = spark.read.format('xml').options(rowTag='row').load(posts_path)\n",
    "\n",
    "languages = spark.read \\\n",
    "      .option(\"header\", True) \\\n",
    "      .option(\"inferSchema\", True) \\\n",
    "      .option(\"DateTimeFormat\", 'M/d/y H:m') \\\n",
    "      .csv(languages_path)\n",
    "\n",
    "posts.printSchema()"
   ],
   "id": "qwoy5A-BGIls",
   "outputs": [
    {
     "name": "stdout",
     "output_type": "stream",
     "text": [
      "root\n",
      " |-- _AcceptedAnswerId: long (nullable = true)\n",
      " |-- _AnswerCount: long (nullable = true)\n",
      " |-- _Body: string (nullable = true)\n",
      " |-- _ClosedDate: timestamp (nullable = true)\n",
      " |-- _CommentCount: long (nullable = true)\n",
      " |-- _CommunityOwnedDate: timestamp (nullable = true)\n",
      " |-- _CreationDate: timestamp (nullable = true)\n",
      " |-- _FavoriteCount: long (nullable = true)\n",
      " |-- _Id: long (nullable = true)\n",
      " |-- _LastActivityDate: timestamp (nullable = true)\n",
      " |-- _LastEditDate: timestamp (nullable = true)\n",
      " |-- _LastEditorDisplayName: string (nullable = true)\n",
      " |-- _LastEditorUserId: long (nullable = true)\n",
      " |-- _OwnerDisplayName: string (nullable = true)\n",
      " |-- _OwnerUserId: long (nullable = true)\n",
      " |-- _ParentId: long (nullable = true)\n",
      " |-- _PostTypeId: long (nullable = true)\n",
      " |-- _Score: long (nullable = true)\n",
      " |-- _Tags: string (nullable = true)\n",
      " |-- _Title: string (nullable = true)\n",
      " |-- _ViewCount: long (nullable = true)\n",
      "\n"
     ]
    }
   ],
   "execution_count": 151
  },
  {
   "metadata": {
    "ExecuteTime": {
     "end_time": "2024-05-10T01:38:56.535501Z",
     "start_time": "2024-05-10T01:38:56.501219Z"
    }
   },
   "cell_type": "code",
   "source": [
    "from pyspark.sql.functions import col\n",
    "\n",
    "posts.select(col(\"_CreationDate\"), col(\"_ViewCount\"), col(\"_Tags\")).show(5)"
   ],
   "id": "9ee77a5ab6bbd61",
   "outputs": [
    {
     "name": "stdout",
     "output_type": "stream",
     "text": [
      "+--------------------+----------+--------------------+\n",
      "|       _CreationDate|_ViewCount|               _Tags|\n",
      "+--------------------+----------+--------------------+\n",
      "|2008-08-01 02:42:...|     42817|<c#><floating-poi...|\n",
      "|2008-08-01 03:08:...|     18214|<html><css><inter...|\n",
      "|2008-08-01 03:17:...|      NULL|                NULL|\n",
      "|2008-08-01 04:40:...|    555183|<c#><.net><datetime>|\n",
      "|2008-08-01 04:55:...|    149445|<c#><datetime><ti...|\n",
      "+--------------------+----------+--------------------+\n",
      "only showing top 5 rows\n",
      "\n"
     ]
    }
   ],
   "execution_count": 152
  },
  {
   "cell_type": "code",
   "id": "27cc3607-66aa-4840-93a5-01ee29f27f78",
   "metadata": {
    "id": "27cc3607-66aa-4840-93a5-01ee29f27f78",
    "colab": {
     "base_uri": "https://localhost:8080/"
    },
    "outputId": "f5b7d285-fa7a-4c9c-ed27-e0ea4c5601f5",
    "ExecuteTime": {
     "end_time": "2024-05-10T01:38:56.676674Z",
     "start_time": "2024-05-10T01:38:56.536310Z"
    }
   },
   "source": [
    "from pyspark.sql.functions import split, udf, from_unixtime, unix_timestamp, lower\n",
    "\n",
    "strip_udf = udf(lambda string: string[1: -1])\n",
    "selected_posts = (\n",
    "    posts.filter(col(\"_Tags\").isNotNull())\n",
    "        .withColumn(\"year\", from_unixtime(unix_timestamp(col(\"_CreationDate\")), \"yyyy\").cast(\"int\"))\n",
    "        .filter(col(\"year\") >= 2010)\n",
    "        .filter(col(\"year\") <= 2020)\n",
    "        .withColumn(\"views_count\", col(\"_ViewCount\"))\n",
    "        .withColumn(\"tags\", split(lower(strip_udf(col(\"_Tags\"))), \"><\"))\n",
    "        .select(col(\"year\"), col(\"views_count\"), col(\"tags\"))\n",
    ")\n",
    "\n",
    "selected_posts.show(truncate=False)"
   ],
   "outputs": [
    {
     "name": "stdout",
     "output_type": "stream",
     "text": [
      "+----+-----------+---------------------------------------------------------------+\n",
      "|year|views_count|tags                                                           |\n",
      "+----+-----------+---------------------------------------------------------------+\n",
      "|2010|3650       |[c++, character-encoding]                                      |\n",
      "|2010|617        |[sharepoint, infopath]                                         |\n",
      "|2010|1315       |[iphone, app-store, in-app-purchase]                           |\n",
      "|2010|973        |[symfony1, schema, doctrine, fixtures]                         |\n",
      "|2010|132        |[java]                                                         |\n",
      "|2010|419        |[visual-studio-2010, stylecop]                                 |\n",
      "|2010|869        |[cakephp, file-upload, swfupload]                              |\n",
      "|2010|1303       |[git, cygwin, putty]                                           |\n",
      "|2010|748        |[drupal, drupal-6]                                             |\n",
      "|2010|1258       |[php, wordpress, memory]                                       |\n",
      "|2010|14972      |[c#, winforms, data-binding, checkedlistbox]                   |\n",
      "|2010|274        |[c#, asp.net, exception-handling]                              |\n",
      "|2010|804        |[sql, xml, blob]                                               |\n",
      "|2010|6019       |[.htaccess, codeigniter]                                       |\n",
      "|2010|5456       |[wcf, web-services, anonymous, basichttpbinding, wshttpbinding]|\n",
      "|2010|316        |[mod-rewrite, apache2]                                         |\n",
      "|2010|15477      |[sql, database, default, sybase]                               |\n",
      "|2010|9649       |[ruby, rvm]                                                    |\n",
      "|2010|20199      |[android, eclipse]                                             |\n",
      "|2010|735        |[iphone, uiimageview, pinch, image-zoom]                       |\n",
      "+----+-----------+---------------------------------------------------------------+\n",
      "only showing top 20 rows\n",
      "\n"
     ]
    }
   ],
   "execution_count": 153
  },
  {
   "cell_type": "markdown",
   "id": "a15623c4-6ad6-4814-abd2-54ba79ecae1f",
   "metadata": {
    "id": "a15623c4-6ad6-4814-abd2-54ba79ecae1f"
   },
   "source": [
    "Столбец languages распакуем по примеру\n",
    "<br/>Из записи: <br/>\n",
    "|2010| 599| [c#, c++, java]|\n",
    "<br/>Получилось 3 новых записи:<br/>\n",
    "|2010| 599| c#  |<br/>\n",
    "|2010| 599| c++ |<br/>\n",
    "|2010| 599| java|<br/>"
   ]
  },
  {
   "cell_type": "code",
   "id": "306b0a28-fcbe-487f-9a48-e4ce20ee8ed3",
   "metadata": {
    "colab": {
     "base_uri": "https://localhost:8080/"
    },
    "id": "306b0a28-fcbe-487f-9a48-e4ce20ee8ed3",
    "outputId": "37c721b2-21ce-4378-9233-52a4b168243b",
    "ExecuteTime": {
     "end_time": "2024-05-10T01:38:57.587217Z",
     "start_time": "2024-05-10T01:38:56.677619Z"
    }
   },
   "source": [
    "from pyspark.sql.functions import explode\n",
    "selected_posts_exploded = selected_posts.select(col(\"year\"), col(\"views_count\"), explode(col(\"tags\"))).withColumnRenamed(\"col\", \"language\")\n",
    "selected_posts_exploded.show()"
   ],
   "outputs": [
    {
     "name": "stdout",
     "output_type": "stream",
     "text": [
      "+----+-----------+------------------+\n",
      "|year|views_count|          language|\n",
      "+----+-----------+------------------+\n",
      "|2010|       3650|               c++|\n",
      "|2010|       3650|character-encoding|\n",
      "|2010|        617|        sharepoint|\n",
      "|2010|        617|          infopath|\n",
      "|2010|       1315|            iphone|\n",
      "|2010|       1315|         app-store|\n",
      "|2010|       1315|   in-app-purchase|\n",
      "|2010|        973|          symfony1|\n",
      "|2010|        973|            schema|\n",
      "|2010|        973|          doctrine|\n",
      "|2010|        973|          fixtures|\n",
      "|2010|        132|              java|\n",
      "|2010|        419|visual-studio-2010|\n",
      "|2010|        419|          stylecop|\n",
      "|2010|        869|           cakephp|\n",
      "|2010|        869|       file-upload|\n",
      "|2010|        869|         swfupload|\n",
      "|2010|       1303|               git|\n",
      "|2010|       1303|            cygwin|\n",
      "|2010|       1303|             putty|\n",
      "+----+-----------+------------------+\n",
      "only showing top 20 rows\n",
      "\n"
     ]
    }
   ],
   "execution_count": 154
  },
  {
   "cell_type": "code",
   "id": "edf38f33-86cd-4128-9215-aa1571291bfa",
   "metadata": {
    "colab": {
     "base_uri": "https://localhost:8080/"
    },
    "id": "edf38f33-86cd-4128-9215-aa1571291bfa",
    "outputId": "3ddccceb-6a2a-44c1-bffa-25e74d110834",
    "ExecuteTime": {
     "end_time": "2024-05-10T01:38:57.627950Z",
     "start_time": "2024-05-10T01:38:57.588310Z"
    }
   },
   "source": [
    "from pyspark.sql.functions import lower\n",
    "\n",
    "languages_names = languages.withColumn(\"name\", lower(col(\"name\"))).select(col(\"name\"))\n",
    "languages_names.show()"
   ],
   "outputs": [
    {
     "name": "stdout",
     "output_type": "stream",
     "text": [
      "+------------+\n",
      "|        name|\n",
      "+------------+\n",
      "|     a# .net|\n",
      "|  a# (axiom)|\n",
      "|  a-0 system|\n",
      "|          a+|\n",
      "|         a++|\n",
      "|        abap|\n",
      "|         abc|\n",
      "|   abc algol|\n",
      "|       abset|\n",
      "|       absys|\n",
      "|         acc|\n",
      "|      accent|\n",
      "|    ace dasl|\n",
      "|        acl2|\n",
      "|     act-iii|\n",
      "|     action!|\n",
      "|actionscript|\n",
      "|         ada|\n",
      "|     adenine|\n",
      "|        agda|\n",
      "+------------+\n",
      "only showing top 20 rows\n",
      "\n"
     ]
    }
   ],
   "execution_count": 155
  },
  {
   "cell_type": "code",
   "id": "2df182e9-d6db-47f8-a366-45916807f3ca",
   "metadata": {
    "colab": {
     "base_uri": "https://localhost:8080/"
    },
    "id": "2df182e9-d6db-47f8-a366-45916807f3ca",
    "outputId": "e568d7a1-4e5b-41c0-e534-d3bc71329af9",
    "ExecuteTime": {
     "end_time": "2024-05-10T01:38:59.188173Z",
     "start_time": "2024-05-10T01:38:57.630043Z"
    }
   },
   "source": [
    "selected_posts_exploded = selected_posts_exploded.crossJoin(languages_names).where(col(\"language\") == col(\"name\"))\n",
    "language_rate = selected_posts_exploded.groupBy(\"year\", \"language\").agg({\"views_count\": \"sum\"}).withColumnRenamed(\"sum(views_count)\", \"views_count\")\n",
    "language_rate.show()"
   ],
   "outputs": [
    {
     "name": "stdout",
     "output_type": "stream",
     "text": [
      "+----+-----------+-----------+\n",
      "|year|   language|views_count|\n",
      "+----+-----------+-----------+\n",
      "|2019| typescript|       1577|\n",
      "|2017|       perl|       2366|\n",
      "|2012|       bash|       9333|\n",
      "|2011|objective-c|     218934|\n",
      "|2013|        php|     471986|\n",
      "|2018|    jscript|         38|\n",
      "|2013|       chef|      62421|\n",
      "|2017|       curl|        897|\n",
      "|2013|     delphi|      20143|\n",
      "|2016|        awk|       1808|\n",
      "|2016| coldfusion|       1032|\n",
      "|2019|         go|        533|\n",
      "|2015|       bash|      25543|\n",
      "|2019|      xpath|         27|\n",
      "|2013|          c|      37918|\n",
      "|2016|         f#|        364|\n",
      "|2014|       glsl|       2515|\n",
      "|2013|       curl|      18293|\n",
      "|2013|    haskell|       1043|\n",
      "|2014|         f#|        457|\n",
      "+----+-----------+-----------+\n",
      "only showing top 20 rows\n",
      "\n"
     ]
    }
   ],
   "execution_count": 156
  },
  {
   "cell_type": "code",
   "id": "f78d84ff-8389-4684-a67e-3320095cb0b5",
   "metadata": {
    "colab": {
     "base_uri": "https://localhost:8080/"
    },
    "id": "f78d84ff-8389-4684-a67e-3320095cb0b5",
    "outputId": "62b857a7-4aa9-4abe-a079-60fac390db42",
    "ExecuteTime": {
     "end_time": "2024-05-10T01:40:25.570944Z",
     "start_time": "2024-05-10T01:40:24.109349Z"
    }
   },
   "source": [
    "from pyspark.sql import Window\n",
    "from pyspark.sql.functions import dense_rank\n",
    "\n",
    "# languages_top = language_rate.orderBy(col(\"sum(views_count)\").desc()).withColumnRenamed(\"sum(views_count)\", \"views_count\")\n",
    "# languages_top.show()\n",
    "result = (\n",
    "    language_rate\n",
    "    .withColumn(\"rate\", dense_rank().over(\n",
    "        Window.partitionBy(\"year\")\n",
    "        .orderBy(col(\"views_count\").desc())\n",
    "    ))\n",
    "    .where(col(\"rate\") <= 10)\n",
    "    .select(\"year\", \"language\", \"views_count\")\n",
    "    .orderBy(\"year\", \"rate\")\n",
    ")\n",
    "result.show(100)"
   ],
   "outputs": [
    {
     "name": "stdout",
     "output_type": "stream",
     "text": [
      "+----+-----------+-----------+\n",
      "|year|   language|views_count|\n",
      "+----+-----------+-----------+\n",
      "|2010|        php|    1189629|\n",
      "|2010|       java|     563211|\n",
      "|2010| javascript|     316131|\n",
      "|2010|objective-c|      97009|\n",
      "|2010|       ruby|      76215|\n",
      "|2010|          c|      66587|\n",
      "|2010|     python|      60672|\n",
      "|2010|     matlab|      51865|\n",
      "|2010|applescript|      32305|\n",
      "|2010|     delphi|      13065|\n",
      "|2011| javascript|     809078|\n",
      "|2011|       java|     389834|\n",
      "|2011|        php|     246770|\n",
      "|2011|          c|     238277|\n",
      "|2011|objective-c|     218934|\n",
      "|2011|     python|     203180|\n",
      "|2011|       bash|      60805|\n",
      "|2011|       ruby|      39223|\n",
      "|2011|       perl|      28502|\n",
      "|2011|     matlab|      18816|\n",
      "|2012|       java|     661770|\n",
      "|2012| javascript|     572750|\n",
      "|2012|        php|     459506|\n",
      "|2012|     python|     275337|\n",
      "|2012|       ruby|     104610|\n",
      "|2012|objective-c|      94438|\n",
      "|2012|          c|      69276|\n",
      "|2012|          r|      43917|\n",
      "|2012|      xpath|      32981|\n",
      "|2012|      scala|      24592|\n",
      "|2013|       java|    1036852|\n",
      "|2013| javascript|     609571|\n",
      "|2013|        php|     471986|\n",
      "|2013|objective-c|     401254|\n",
      "|2013|     python|     163898|\n",
      "|2013| powershell|     154758|\n",
      "|2013|       bash|      73169|\n",
      "|2013|       chef|      62421|\n",
      "|2013|       ruby|      57407|\n",
      "|2013|         io|      44228|\n",
      "|2014| javascript|     505893|\n",
      "|2014|       java|     434130|\n",
      "|2014|     python|     241959|\n",
      "|2014|        php|     238579|\n",
      "|2014|          c|      87281|\n",
      "|2014|objective-c|      57110|\n",
      "|2014|          r|      50113|\n",
      "|2014|      scala|      40786|\n",
      "|2014|     delphi|      23684|\n",
      "|2014|       ruby|      21631|\n",
      "|2015| javascript|     342097|\n",
      "|2015|     python|     280129|\n",
      "|2015|       java|     270303|\n",
      "|2015|        php|     155899|\n",
      "|2015|          r|      60437|\n",
      "|2015|       abap|      30613|\n",
      "|2015|      scala|      29803|\n",
      "|2015|       bash|      25543|\n",
      "|2015|          c|      20084|\n",
      "|2015|         go|      11625|\n",
      "|2016| javascript|     233802|\n",
      "|2016|     python|     219510|\n",
      "|2016|       java|     169513|\n",
      "|2016|        php|     105849|\n",
      "|2016|          r|      49717|\n",
      "|2016| powershell|      36175|\n",
      "|2016| typescript|      33343|\n",
      "|2016|          c|      17568|\n",
      "|2016|         go|      13062|\n",
      "|2016|       ruby|      12909|\n",
      "|2017|       java|     149826|\n",
      "|2017| javascript|     146638|\n",
      "|2017|     python|     128190|\n",
      "|2017|        php|      61882|\n",
      "|2017| typescript|      29031|\n",
      "|2017|     kotlin|      25082|\n",
      "|2017|          r|      24690|\n",
      "|2017|      scala|       8856|\n",
      "|2017|          c|       6180|\n",
      "|2017|objective-c|       5795|\n",
      "|2018|     python|      99996|\n",
      "|2018| javascript|      64133|\n",
      "|2018|       java|      40309|\n",
      "|2018|        php|      34978|\n",
      "|2018| typescript|      33139|\n",
      "|2018|     kotlin|      13182|\n",
      "|2018|          r|      11420|\n",
      "|2018| powershell|       7300|\n",
      "|2018|       dart|       6445|\n",
      "|2018|      scala|       4531|\n",
      "|2019|     python|      18857|\n",
      "|2019| javascript|      13434|\n",
      "|2019|       java|       5942|\n",
      "|2019|        php|       3753|\n",
      "|2019|       dart|       2205|\n",
      "|2019| typescript|       1577|\n",
      "|2019|          r|       1520|\n",
      "|2019|     delphi|       1173|\n",
      "|2019|          c|       1111|\n",
      "|2019|       bash|        722|\n",
      "+----+-----------+-----------+\n",
      "\n"
     ]
    }
   ],
   "execution_count": 161
  },
  {
   "cell_type": "code",
   "source": "result.write.parquet(\"result_report.parquet\")",
   "metadata": {
    "id": "DxvzImGJJjYa",
    "ExecuteTime": {
     "end_time": "2024-05-10T01:44:12.101253Z",
     "start_time": "2024-05-10T01:44:10.612273Z"
    }
   },
   "id": "DxvzImGJJjYa",
   "outputs": [],
   "execution_count": 164
  }
 ],
 "metadata": {
  "kernelspec": {
   "display_name": "Python 3",
   "language": "python",
   "name": "python3"
  },
  "language_info": {
   "codemirror_mode": {
    "name": "ipython",
    "version": 3
   },
   "file_extension": ".py",
   "mimetype": "text/x-python",
   "name": "python",
   "nbconvert_exporter": "python",
   "pygments_lexer": "ipython3",
   "version": "3.9.5"
  },
  "colab": {
   "provenance": []
  }
 },
 "nbformat": 4,
 "nbformat_minor": 5
}
